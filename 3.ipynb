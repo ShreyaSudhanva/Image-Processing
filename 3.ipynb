{
 "cells": [
  {
   "cell_type": "code",
   "execution_count": 1,
   "metadata": {},
   "outputs": [
    {
     "name": "stdout",
     "output_type": "stream",
     "text": [
      "Lower value: 10\n",
      "Upper value: 100\n",
      "Image filename: Fig0122(c)(skull).tif\n",
      "1. Gray level slicing with background\n",
      "2. Gray level slicing without background\n",
      "Pick required operation: 2\n"
     ]
    }
   ],
   "source": [
    "# Program for gray level slicing with and without background\n",
    "\n",
    "from PIL import Image\n",
    "\n",
    "def gray_level_slicing_with_background(img, a, b):\n",
    "    \n",
    "    for i in range(img.width):\n",
    "        for j in range(img.height):\n",
    "            px = img.getpixel((i, j))\n",
    "            if a <= px[0] <= b:\n",
    "                img.putpixel((i, j), (px[1], px[1]))\n",
    "\n",
    "    #img.show()\n",
    "    img.save('3_gray_level_slicing_with_background.png')\n",
    "\n",
    "def gray_level_slicing_without_background(img, a, b):\n",
    "    \n",
    "    for i in range(img.width):\n",
    "        for j in range(img.height):\n",
    "            px = img.getpixel((i, j))\n",
    "            if a <= px[0] <= b:\n",
    "                img.putpixel((i, j), (px[1], px[1]))\n",
    "            else:\n",
    "                img.putpixel((i, j), (0, px[1]))\n",
    "\n",
    "    #img.show()\n",
    "    img.save('gray_level_slicing_without_background.png')\n",
    "\n",
    "if __name__ == '__main__':\n",
    "    a = int(input('Lower value: '))\n",
    "    b = int(input('Upper value: '))\n",
    "\n",
    "    img_name = input('Image filename: ')\n",
    "    img = Image.open(img_name).convert('LA')\n",
    "\n",
    "    print('1. Gray level slicing with background\\n2. Gray level slicing without background')\n",
    "    \n",
    "    choice = int(input('Pick required operation: '))\n",
    "\n",
    "    if choice == 1:\n",
    "        gray_level_slicing_with_background(img, a, b)\n",
    "\n",
    "    elif choice == 2:\n",
    "        gray_level_slicing_without_background(img, a, b)\n",
    "\n",
    "    else:\n",
    "        print('Invalid choice!')"
   ]
  },
  {
   "cell_type": "code",
   "execution_count": null,
   "metadata": {},
   "outputs": [],
   "source": []
  },
  {
   "cell_type": "code",
   "execution_count": null,
   "metadata": {},
   "outputs": [],
   "source": []
  }
 ],
 "metadata": {
  "kernelspec": {
   "display_name": "Python 3.6.5 64-bit ('base': conda)",
   "language": "python",
   "name": "python36564bitbasecondaedbebc63b7214195bccfbf01a85a3df5"
  },
  "language_info": {
   "codemirror_mode": {
    "name": "ipython",
    "version": 3
   },
   "file_extension": ".py",
   "mimetype": "text/x-python",
   "name": "python",
   "nbconvert_exporter": "python",
   "pygments_lexer": "ipython3",
   "version": "3.6.5"
  }
 },
 "nbformat": 4,
 "nbformat_minor": 2
}
