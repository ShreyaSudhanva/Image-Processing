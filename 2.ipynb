{
 "cells": [
  {
   "cell_type": "code",
   "execution_count": 1,
   "metadata": {},
   "outputs": [],
   "source": [
    "from PIL import Image\n",
    "import math\n",
    "\n",
    "def linear_indentity(img):\n",
    "\n",
    "    for i in range(img.width):\n",
    "        for j in range(img.height):\n",
    "            px = img.getpixel((i, j))\n",
    "            img.putpixel((i, j), px)\n",
    "            \n",
    "    # img.show()\n",
    "    img.save('identity.png')"
   ]
  },
  {
   "cell_type": "code",
   "execution_count": 2,
   "metadata": {},
   "outputs": [],
   "source": [
    "def linear_negative(img):\n",
    "\n",
    "    for i in range(img.width):\n",
    "        for j in range(img.height):\n",
    "            px = img.getpixel((i, j))\n",
    "            img.putpixel((i, j), (px[1]-px[0], px[1]))\n",
    "\n",
    "    # img.show()\n",
    "    img.save('negative.png')"
   ]
  },
  {
   "cell_type": "code",
   "execution_count": 3,
   "metadata": {},
   "outputs": [],
   "source": [
    "def logarithmic(img, c=31.875):\n",
    "\n",
    "    for i in range(img.width):\n",
    "        for j in range(img.height):\n",
    "            px = img.getpixel((i, j))\n",
    "            img.putpixel((i, j), (int(c * math.log(px[0]+1, 2)), px[1]))\n",
    "    \n",
    "    # img.show()\n",
    "    img.save('logarithmic.png')"
   ]
  },
  {
   "cell_type": "code",
   "execution_count": 4,
   "metadata": {},
   "outputs": [],
   "source": [
    "def power(img, gamma, c=31.875):\n",
    "\n",
    "    for i in range(img.width):\n",
    "        for j in range(img.height):\n",
    "            px = img.getpixel((i, j))\n",
    "            img.putpixel((i, j), (int(c * (px[0] ** (1/gamma))), px[1]))\n",
    "    \n",
    "    # img.show()\n",
    "    img.save('power.png')"
   ]
  },
  {
   "cell_type": "code",
   "execution_count": 5,
   "metadata": {},
   "outputs": [],
   "source": [
    "def piecewise_contrast_stretching(img, a, b, l, m, n, v, w):\n",
    "\n",
    "    for i in range(img.width):\n",
    "        for j in range(img.height):\n",
    "            px = img.getpixel((i, j))\n",
    "            if px[0] < a:\n",
    "                img.putpixel((i, j), (int(l*px[0]), px[1]))\n",
    "            elif a <= px[0] <= b:\n",
    "                img.putpixel((i, j), (int(m*(px[0]-a)+v), px[1]))\n",
    "            else:\n",
    "                img.putpixel((i, j), (int(n*(px[0]-b)+w), px[1]))\n",
    "\n",
    "    # img.show()\n",
    "    img.save('contrast_stretching.png')"
   ]
  },
  {
   "cell_type": "code",
   "execution_count": 6,
   "metadata": {},
   "outputs": [],
   "source": [
    "def piecewise_clipping(img, a, b):\n",
    "\n",
    "    for i in range(img.width):\n",
    "        for j in range(img.height):\n",
    "            px = img.getpixel((i, j))\n",
    "            if px[0] < a:\n",
    "                img.putpixel((i, j), (0, px[1]))\n",
    "            elif a <= px[0] <= b:\n",
    "                img.putpixel((i, j), (int(((px[1]/(b-a))*px[0])), px[1]))\n",
    "            else:\n",
    "                img.putpixel((i, j), (px[1], px[1]))\n",
    "        \n",
    "    # img.show()\n",
    "    img.save('clipping.png')"
   ]
  },
  {
   "cell_type": "code",
   "execution_count": 7,
   "metadata": {},
   "outputs": [],
   "source": [
    "def piecewise_thresholding(img, t):\n",
    "\n",
    "    for i in range(img.width):\n",
    "        for j in range(img.height):\n",
    "            px = img.getpixel((i, j))\n",
    "            if px[0] >= t:\n",
    "                img.putpixel((i, j), px)\n",
    "            else:\n",
    "                img.putpixel((i, j), (0, px[1]))\n",
    "\n",
    "    # img.show()\n",
    "    img.save('thresholding.png')"
   ]
  },
  {
   "cell_type": "code",
   "execution_count": 23,
   "metadata": {},
   "outputs": [
    {
     "name": "stdout",
     "output_type": "stream",
     "text": [
      "Image filename: Fig0122(c)(skull).tif\n",
      "1. Identity\n",
      "2. Negative\n",
      "3. Logarithmic\n",
      "4. Power\n",
      "5. Contrast Stretching\n",
      "6. Clipping\n",
      "7. Thresholding\n",
      "Pick required operation: 7\n",
      "Threshold = 10000\n"
     ]
    }
   ],
   "source": [
    "if __name__ == '__main__':\n",
    "    \n",
    "    img_name = input('Image filename: ')\n",
    "    img = Image.open(img_name).convert('LA')\n",
    "\n",
    "    print('1. Identity\\n2. Negative\\n3. Logarithmic\\n4. Power\\n5. Contrast Stretching\\n6. Clipping\\n7. Thresholding')\n",
    "    choice = int(input('Pick required operation: '))\n",
    "\n",
    "    if choice == 1:\n",
    "        linear_indentity(img)\n",
    "    \n",
    "    elif choice == 2:\n",
    "        linear_negative(img)\n",
    "\n",
    "    elif choice == 3:\n",
    "        c = float(input('c = '))\n",
    "        logarithmic(img, c)\n",
    "\n",
    "    elif choice == 4:\n",
    "        c = float(input('c = '))\n",
    "        gamma = float(input('Gamma = '))\n",
    "        power(img, gamma, c)\n",
    "\n",
    "    elif choice == 5:\n",
    "        a, b = map(int, input('Input range = ').split())\n",
    "        l, m, n = map(int, input('3 slopes = ').split())\n",
    "        v, w = map(int, input('Output range = ').split())\n",
    "        piecewise_contrast_stretching(img, a, b, l, m, n, v, w)\n",
    "\n",
    "    elif choice == 6:\n",
    "        a, b = map(int, input('Range = ').split())\n",
    "        piecewise_clipping(img, a, b)\n",
    "\n",
    "    elif choice == 7:\n",
    "        threshold = int(input('Threshold = '))\n",
    "        piecewise_thresholding(img, threshold)\n",
    "\n",
    "    else:\n",
    "        print('Invalid choice!')"
   ]
  },
  {
   "cell_type": "code",
   "execution_count": null,
   "metadata": {},
   "outputs": [],
   "source": []
  }
 ],
 "metadata": {
  "kernelspec": {
   "display_name": "Python 3",
   "language": "python",
   "name": "python3"
  },
  "language_info": {
   "codemirror_mode": {
    "name": "ipython",
    "version": 3
   },
   "file_extension": ".py",
   "mimetype": "text/x-python",
   "name": "python",
   "nbconvert_exporter": "python",
   "pygments_lexer": "ipython3",
   "version": "3.6.9"
  }
 },
 "nbformat": 4,
 "nbformat_minor": 2
}
