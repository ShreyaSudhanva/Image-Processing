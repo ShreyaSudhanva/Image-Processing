{
 "cells": [
  {
   "cell_type": "code",
   "execution_count": 2,
   "metadata": {},
   "outputs": [
    {
     "name": "stdout",
     "output_type": "stream",
     "text": [
      "Image filename: Fig0122(c)(skull).tif\n",
      "1. Box/Mean Filter\n",
      "2. Median Filter\n",
      "Pick required operation: 2\n"
     ]
    }
   ],
   "source": [
    "# Program to filter an image using averaging low pass filter in spatial domain and median filter\n",
    "\n",
    "from PIL import Image\n",
    "\n",
    "def low_pass_mean_filter(img):\n",
    "    \n",
    "    mean_img = Image.new('L', (img.width, img.height))\n",
    "\n",
    "    for i in range(img.width):\n",
    "        for j in range(img.height):\n",
    "            total = 0\n",
    "            n = 0\n",
    "            for m in [-1, 0, 1]:\n",
    "                for n in [-1, 0, 1]:\n",
    "                    if 0 <= i+m < img.width and 0 <= j+n < img.height:\n",
    "                        total += img.getpixel((i, j))\n",
    "                        n += 1\n",
    "            mean_img.putpixel((i, j), round(total/n))\n",
    "\n",
    "    # mean_img.show()\n",
    "    mean_img.save('5_mean.png')\n",
    "\n",
    "def low_pass_median_filter(img):\n",
    "    \n",
    "    median_img = Image.new('L', (img.width, img.height))\n",
    "\n",
    "    for i in range(img.width):\n",
    "        for j in range(img.height):\n",
    "            arr = []\n",
    "            n = 0\n",
    "            for m in [-1, 0, 1]:\n",
    "                for n in [-1, 0, 1]:\n",
    "                    if 0 <= i+m < img.width and 0 <= j+n < img.height:\n",
    "                        arr.append(img.getpixel((i, j)))\n",
    "                        n += 1\n",
    "            arr.sort()\n",
    "            median_img.putpixel((i, j), arr[n//2])\n",
    "\n",
    "    # median_img.show()\n",
    "    median_img.save('5_median.png')\n",
    "\n",
    "if __name__ == '__main__':\n",
    "\n",
    "    img_name = input('Image filename: ')\n",
    "    img = Image.open(img_name).convert('L')\n",
    "\n",
    "    print('1. Box/Mean Filter\\n2. Median Filter')\n",
    "    choice = int(input('Pick required operation: '))\n",
    "\n",
    "    if choice == 1:\n",
    "        low_pass_mean_filter(img)\n",
    "\n",
    "    elif choice == 2:\n",
    "        low_pass_median_filter(img)\n",
    "\n",
    "    else:\n",
    "        print('Invalid choice!')"
   ]
  },
  {
   "cell_type": "code",
   "execution_count": null,
   "metadata": {},
   "outputs": [],
   "source": []
  }
 ],
 "metadata": {
  "kernelspec": {
   "display_name": "Python 3.6.5 64-bit ('base': conda)",
   "language": "python",
   "name": "python36564bitbasecondaedbebc63b7214195bccfbf01a85a3df5"
  },
  "language_info": {
   "codemirror_mode": {
    "name": "ipython",
    "version": 3
   },
   "file_extension": ".py",
   "mimetype": "text/x-python",
   "name": "python",
   "nbconvert_exporter": "python",
   "pygments_lexer": "ipython3",
   "version": "3.6.5"
  }
 },
 "nbformat": 4,
 "nbformat_minor": 2
}
