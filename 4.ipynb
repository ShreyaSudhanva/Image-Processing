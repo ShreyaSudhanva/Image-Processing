{
 "cells": [
  {
   "cell_type": "code",
   "execution_count": 1,
   "metadata": {},
   "outputs": [
    {
     "name": "stdout",
     "output_type": "stream",
     "text": [
      "Image filename: Fig0122(c)(skull).tif\n"
     ]
    }
   ],
   "source": [
    "# Program for image enhancement using histogram equalization\n",
    "\n",
    "from PIL import Image\n",
    "\n",
    "def histogram_equalization(img):\n",
    "\n",
    "    pixels = img.width * img.height\n",
    "    grey_levels = img.getpixel((0, 0))[1] + 1\n",
    "\n",
    "    arr = [0] * grey_levels\n",
    "\n",
    "    for i in range(img.width):\n",
    "        for j in range(img.height):\n",
    "            px = img.getpixel((i, j))\n",
    "            arr[px[0]] += 1\n",
    "\n",
    "    for i in range(grey_levels):\n",
    "        arr[i] = arr[i] / pixels\n",
    "\n",
    "    for i in range(1, grey_levels):\n",
    "        arr[i] += arr[i-1]\n",
    "\n",
    "    for i in range(grey_levels):\n",
    "        arr[i] *= (grey_levels - 1)\n",
    "\n",
    "    for i in range(grey_levels):\n",
    "        arr[i] = round(arr[i])\n",
    "\n",
    "    # print(arr)\n",
    "\n",
    "    for i in range(img.width):\n",
    "        for j in range(img.height):\n",
    "            px = img.getpixel((i, j))\n",
    "            img.putpixel((i, j), (arr[px[0]], px[1]))\n",
    "\n",
    "    # img.show()\n",
    "    img.save('4_histogram_equalization.png')\n",
    "\n",
    "if __name__ == '__main__':\n",
    "\n",
    "    img_name = input('Image filename: ')\n",
    "    img = Image.open(img_name).convert('LA')\n",
    "\n",
    "    histogram_equalization(img)"
   ]
  },
  {
   "cell_type": "code",
   "execution_count": null,
   "metadata": {},
   "outputs": [],
   "source": []
  }
 ],
 "metadata": {
  "kernelspec": {
   "display_name": "Python 3.6.5 64-bit ('base': conda)",
   "language": "python",
   "name": "python36564bitbasecondaedbebc63b7214195bccfbf01a85a3df5"
  },
  "language_info": {
   "codemirror_mode": {
    "name": "ipython",
    "version": 3
   },
   "file_extension": ".py",
   "mimetype": "text/x-python",
   "name": "python",
   "nbconvert_exporter": "python",
   "pygments_lexer": "ipython3",
   "version": "3.6.5"
  }
 },
 "nbformat": 4,
 "nbformat_minor": 2
}
