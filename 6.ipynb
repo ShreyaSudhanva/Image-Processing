{
 "cells": [
  {
   "cell_type": "code",
   "execution_count": 2,
   "metadata": {},
   "outputs": [
    {
     "name": "stdout",
     "output_type": "stream",
     "text": [
      "Image filename: Fig0122(c)(skull).tif\n"
     ]
    }
   ],
   "source": [
    "# Program to sharpen an image using 2-D laplacian high pass filter in spatial domain.\n",
    "\n",
    "from PIL import Image\n",
    "\n",
    "def high_pass_laplacian_filter(img):\n",
    "    \n",
    "    laplacian_img = Image.new('L', (img.width, img.height))\n",
    "\n",
    "    for i in range(img.width):\n",
    "        for j in range(img.height):\n",
    "            n = 0\n",
    "            total = 0\n",
    "            if i-1 >= 0:\n",
    "                total += img.getpixel((i-1, j))\n",
    "                n += 1\n",
    "            if i+1 < img.width:\n",
    "                total += img.getpixel((i+1, j))\n",
    "                n += 1\n",
    "            if j-1 >= 0:\n",
    "                total += img.getpixel((i, j-1))\n",
    "                n += 1\n",
    "            if j+1 < img.height:\n",
    "                total += img.getpixel((i, j+1))\n",
    "                n += 1\n",
    "            px = max(0, total - (n * img.getpixel((i, j))))\n",
    "            laplacian_img.putpixel((i, j), px)\n",
    "\n",
    "    # laplacian_img.show()\n",
    "    laplacian_img.save('6_laplacian.png')\n",
    "\n",
    "if __name__ == '__main__':\n",
    "    \n",
    "    img_name = input('Image filename: ')\n",
    "    img = Image.open(img_name).convert('L')\n",
    "\n",
    "    high_pass_laplacian_filter(img)"
   ]
  },
  {
   "cell_type": "code",
   "execution_count": null,
   "metadata": {},
   "outputs": [],
   "source": []
  }
 ],
 "metadata": {
  "kernelspec": {
   "display_name": "Python 3.6.5 64-bit ('base': conda)",
   "language": "python",
   "name": "python36564bitbasecondaedbebc63b7214195bccfbf01a85a3df5"
  },
  "language_info": {
   "codemirror_mode": {
    "name": "ipython",
    "version": 3
   },
   "file_extension": ".py",
   "mimetype": "text/x-python",
   "name": "python",
   "nbconvert_exporter": "python",
   "pygments_lexer": "ipython3",
   "version": "3.6.5"
  }
 },
 "nbformat": 4,
 "nbformat_minor": 2
}
