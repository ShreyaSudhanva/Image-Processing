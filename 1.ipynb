{
 "cells": [
  {
   "cell_type": "code",
   "execution_count": 1,
   "metadata": {},
   "outputs": [],
   "source": [
    "from PIL import Image"
   ]
  },
  {
   "cell_type": "code",
   "execution_count": 2,
   "metadata": {},
   "outputs": [],
   "source": [
    "def arithmetic_addition(img1, img2):\n",
    "\n",
    "    for i in range(img1.width):\n",
    "        for j in range(img1.height):\n",
    "            px1 = img1.getpixel((i, j))\n",
    "            if i < img2.width and j < img2.height:\n",
    "                px2 = img2.getpixel((i, j))\n",
    "                tmp = []\n",
    "                for k in range(len(px1)):\n",
    "                    tmp.append(min(255, px1[k]+px2[k]))\n",
    "                px1 = tuple(tmp)\n",
    "            img1.putpixel((i, j), px1)\n",
    "\n",
    "    # img1.show()\n",
    "    img1.save('addition.png')"
   ]
  },
  {
   "cell_type": "code",
   "execution_count": 3,
   "metadata": {},
   "outputs": [],
   "source": [
    "def arithmetic_subtraction(img1, img2):\n",
    "\n",
    "    for i in range(img1.width):\n",
    "        for j in range(img1.height):\n",
    "            px1 = img1.getpixel((i, j))\n",
    "            if i < img2.width and j < img2.height:\n",
    "                px2 = img2.getpixel((i, j))\n",
    "                tmp = []\n",
    "                for k in range(len(px1)):\n",
    "                    tmp.append(max(0, px1[k]-px2[k]))\n",
    "                px1 = tuple(tmp)\n",
    "            img1.putpixel((i, j), px1)\n",
    "\n",
    "    # img1.show()\n",
    "    img1.save('subtraction.png')"
   ]
  },
  {
   "cell_type": "code",
   "execution_count": 4,
   "metadata": {},
   "outputs": [],
   "source": [
    "def arithmetic_multiplication(img1, img2):\n",
    "\n",
    "    for i in range(img1.width):\n",
    "        for j in range(img1.height):\n",
    "            px1 = img1.getpixel((i, j))\n",
    "            if i < img2.width and j < img2.height:\n",
    "                px2 = img2.getpixel((i, j))\n",
    "                tmp = []\n",
    "                for k in range(len(px1)):\n",
    "                    tmp.append(min(255, px1[k]*px2[k]))\n",
    "                px1 = tuple(tmp)\n",
    "            img1.putpixel((i, j), px1)\n",
    "\n",
    "    # img1.show()\n",
    "    img1.save('multiplication.png')"
   ]
  },
  {
   "cell_type": "code",
   "execution_count": 5,
   "metadata": {},
   "outputs": [],
   "source": [
    "def arithmetic_division(img1, img2):\n",
    "\n",
    "    for i in range(img1.width):\n",
    "        for j in range(img1.height):\n",
    "            px1 = img1.getpixel((i, j))\n",
    "            if i < img2.width and j < img2.height:\n",
    "                px2 = img2.getpixel((i, j))\n",
    "                tmp = []\n",
    "                for k in range(len(px1)):\n",
    "                    if px2[k] > 0:\n",
    "                        tmp.append(max(0, px1[k]//px2[k]))\n",
    "                    else:\n",
    "                        tmp.append(255)\n",
    "                px1 = tuple(tmp)\n",
    "            img1.putpixel((i, j), px1)\n",
    "\n",
    "    # img1.show()\n",
    "    img1.save('division.png')"
   ]
  },
  {
   "cell_type": "code",
   "execution_count": 6,
   "metadata": {},
   "outputs": [],
   "source": [
    "def logical_and(img1, img2):\n",
    "\n",
    "    for i in range(img1.width):\n",
    "        for j in range(img1.height):\n",
    "            px1 = img1.getpixel((i, j))\n",
    "            if i < img2.width and j < img2.height:\n",
    "                px2 = img2.getpixel((i, j))\n",
    "                tmp = []\n",
    "                for k in range(len(px1)):\n",
    "                    tmp.append(px1[k]&px2[k])\n",
    "                px1 = tuple(tmp)\n",
    "            img1.putpixel((i, j), px1)\n",
    "\n",
    "    # img1.show()\n",
    "    img1.save('and.png')"
   ]
  },
  {
   "cell_type": "code",
   "execution_count": 7,
   "metadata": {},
   "outputs": [],
   "source": [
    "def logical_or(img1, img2):\n",
    "\n",
    "    for i in range(img1.width):\n",
    "        for j in range(img1.height):\n",
    "            px1 = img1.getpixel((i, j))\n",
    "            if i < img2.width and j < img2.height:\n",
    "                px2 = img2.getpixel((i, j))\n",
    "                tmp = []\n",
    "                for k in range(len(px1)):\n",
    "                    tmp.append(px1[k]|px2[k])\n",
    "                px1 = tuple(tmp)\n",
    "            img1.putpixel((i, j), px1)\n",
    "\n",
    "    # img1.show()\n",
    "    img1.save('or.png')"
   ]
  },
  {
   "cell_type": "code",
   "execution_count": 8,
   "metadata": {},
   "outputs": [],
   "source": [
    "def logical_xor(img1, img2):\n",
    "\n",
    "    for i in range(img1.width):\n",
    "        for j in range(img1.height):\n",
    "            px1 = img1.getpixel((i, j))\n",
    "            if i < img2.width and j < img2.height:\n",
    "                px2 = img2.getpixel((i, j))\n",
    "                tmp = []\n",
    "                for k in range(len(px1)):\n",
    "                    tmp.append(px1[k]^px2[k])\n",
    "                px1 = tuple(tmp)\n",
    "            img1.putpixel((i, j), px1)\n",
    "\n",
    "    # img1.show()\n",
    "    img1.save('xor.png')\n"
   ]
  },
  {
   "cell_type": "code",
   "execution_count": 9,
   "metadata": {},
   "outputs": [
    {
     "name": "stdout",
     "output_type": "stream",
     "text": [
      "1. Addition\n",
      "2. Subtraction\n",
      "3. Multiplication\n",
      "4. Division\n",
      "5. And\n",
      "6. Or\n",
      "7. Xor\n",
      "Pick required operation: 1\n",
      "Image 1 filename: Fig0122(c)(skull).tif\n",
      "Image 2 filename: Fig0122(d)(lung).tif\n"
     ]
    }
   ],
   "source": [
    "if __name__ == '__main__':\n",
    "\n",
    "    print('1. Addition\\n2. Subtraction\\n3. Multiplication\\n4. Division\\n5. And\\n6. Or\\n7. Xor')\n",
    "    choice = int(input('Pick required operation: '))\n",
    "    \n",
    "    img_name1 = input('Image 1 filename: ')\n",
    "    img1 = Image.open(img_name1).convert('RGB')\n",
    "\n",
    "    img_name2 = input('Image 2 filename: ')\n",
    "    img2 = Image.open(img_name2).convert('RGB')\n",
    "\n",
    "    if choice == 1:\n",
    "        arithmetic_addition(img1, img2)\n",
    "\n",
    "    elif choice == 2:\n",
    "        arithmetic_subtraction(img1, img2)\n",
    "\n",
    "    elif choice == 3:\n",
    "        arithmetic_multiplication(img1, img2)\n",
    "\n",
    "    elif choice == 4:\n",
    "        arithmetic_division(img1, img2)\n",
    "\n",
    "    elif choice == 5:\n",
    "        logical_and(img1, img2)\n",
    "\n",
    "    elif choice == 6:\n",
    "        logical_or(img1, img2)\n",
    "\n",
    "    elif choice == 7:\n",
    "        logical_xor(img1, img2)\n",
    "\n",
    "    else:\n",
    "        print('Invalid choice!')"
   ]
  },
  {
   "cell_type": "code",
   "execution_count": null,
   "metadata": {},
   "outputs": [],
   "source": []
  },
  {
   "cell_type": "code",
   "execution_count": null,
   "metadata": {},
   "outputs": [],
   "source": []
  }
 ],
 "metadata": {
  "kernelspec": {
   "display_name": "Python 3",
   "language": "python",
   "name": "python3"
  },
  "language_info": {
   "codemirror_mode": {
    "name": "ipython",
    "version": 3
   },
   "file_extension": ".py",
   "mimetype": "text/x-python",
   "name": "python",
   "nbconvert_exporter": "python",
   "pygments_lexer": "ipython3",
   "version": "3.6.9"
  }
 },
 "nbformat": 4,
 "nbformat_minor": 2
}
